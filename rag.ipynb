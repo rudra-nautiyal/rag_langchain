{
 "cells": [
  {
   "cell_type": "code",
   "execution_count": 16,
   "id": "c7e21be6",
   "metadata": {},
   "outputs": [
    {
     "name": "stdout",
     "output_type": "stream",
     "text": [
      "down digestible c omplex c arbohydrates to simple sugars, mostl y \n",
      "glucose. Gluc ose is then tr ansported to all our c ells wher e i t is \n",
      "stored, used to make energy, or used to build macromolecules. Fiber \n",
      "is also a c omplex carbohydrate, but i t cannot be br oken down by \n",
      "digestive enzymes in the human in testine. As a r esult, i t passes \n",
      "through the digestiv e tr act undigeste d unless the bac teria tha t \n",
      "inhabit the colon or large intestine break it down. \n",
      "One gram of digestible c arbohydrates yields f our kilocalories of \n",
      "energy f or the c ells in the bod y to perf orm w ork. I n addi tion to \n",
      "providing ener gy and ser ving as building blocks f or bigger \n",
      "macromolecules, carbohydrates are essential for proper functioning \n",
      "of the ner vous system, he art, and kidne ys. As men tioned, g lucose \n",
      "can be stor ed in the bod y f or futur e use. I n humans, the stor age \n",
      "molecule o f c arbohydrates is c alled g lycogen, and in plan ts, i t is \n",
      "known as starch. Glycogen and starch are co /n\n"
     ]
    }
   ],
   "source": [
    "from langchain_community.document_loaders import PyPDFLoader\n",
    "loader = PyPDFLoader('Human-Nutrition-2020-Edition-1598491699.pdf')\n",
    "text_doc = loader.load()\n",
    "print(f\"{text_doc[47].page_content[:1000]} /n\")\n"
   ]
  },
  {
   "cell_type": "code",
   "execution_count": 17,
   "id": "e9dcbbe7",
   "metadata": {},
   "outputs": [],
   "source": [
    "import os \n",
    "from dotenv import load_dotenv\n",
    "load_dotenv()\n",
    "\n",
    "os.environ['OPENAI_API_KEY'] = os.getenv('OPENAI_API_KEY')"
   ]
  },
  {
   "cell_type": "code",
   "execution_count": 18,
   "id": "749b8920",
   "metadata": {},
   "outputs": [],
   "source": [
    "from langchain_community.document_loaders import WebBaseLoader\n",
    "import bs4 \n",
    "\n",
    "#for loading, chunking and indexing html page\n",
    "loader = WebBaseLoader(web_path=(\"https://www.britannica.com/science/human-nutrition\"),\n",
    "                       bs_kwargs= dict(parse_only = bs4.SoupStrainer(\n",
    "                           class_ = (\"topic-paragraph\", \"h1\", \"h2\", \"h3\", \"md_crosslink\")\n",
    "                       )))"
   ]
  },
  {
   "cell_type": "code",
   "execution_count": 19,
   "id": "25a1910b",
   "metadata": {},
   "outputs": [
    {
     "data": {
      "text/plain": [
       "[Document(metadata={'source': 'https://www.britannica.com/science/human-nutrition'}, page_content='human nutrition,  process by which substances in food are transformed into body tissues and provide energy for the full range of physical and mental activities that make up human life.The study of human nutrition is interdisciplinary in character, involving not only physiology, biochemistry, and molecular biology but also fields such as psychology and anthropology, which explore the influence of attitudes, beliefs, preferences, and cultural traditions on food choices. Human nutrition further touches on economics and political science as the world community recognizes and responds to the suffering and death caused by malnutrition. The ultimate goal of nutritional science is to promote optimal health and reduce the risk of chronic diseases such as cardiovascular disease and cancer as well as to prevent classic nutritional deficiency diseases such as kwashiorkor and pellagra.This article covers the major issues of human nutrition, such as energy generation and balance, essential nutrients, and recommended dietary guidelines. For a full-length treatment of health problems created by failure in nutrition, see nutritional disease. The utilization of food materials by all living things is described in nutrition, and specific biochemical processes are described in metabolism.Utilization of food by the bodyCalories and kilocalories: energy supplyThe human body can be thought of as an engine that releases the energy present in the foods that it digests. This energy is utilized partly for the mechanical work performed by the muscles and in the secretory processes and partly for the work necessary to maintain the body’s structure and functions. The performance of work is associated with the production of heat; heat loss is controlled so as to keep body temperature within a narrow range. Unlike other engines, however, the human body is continually breaking down (catabolizing) and building up (anabolizing) its component parts. Foods supply nutrients essential to the manufacture of the new material and provide energy needed for the chemical reactions involved.Carbohydrate, fat, and protein are, to a large extent, interchangeable as sources of energy. Typically, the energy provided by food is measured in kilocalories, or Calories. One kilocalorie is equal to 1,000 gram-calories (or small calories), a measure of heat energy. However, in common parlance, kilocalories are referred to as “calories.” In other words, a 2,000-calorie diet actually has 2,000 kilocalories of potential energy. One kilocalorie is the amount of heat energy required to raise one kilogram of water from 14.5 to 15.5 °C at one atmosphere of pressure. Another unit of energy widely used is the joule, which measures energy in terms of mechanical work. One joule is the energy expended when one kilogram is moved a distance of one metre by a force of one newton. The relatively higher levels of energy in human nutrition are more likely to be measured in kilojoules (1 kilojoule = 103 joules) or megajoules (1 megajoule = 106 joules). One kilocalorie is equivalent to 4.184 kilojoules.The energy present in food can be determined directly by measuring the output of heat when the food is burned (oxidized) in a bomb calorimeter. However, the human body is not as efficient as a calorimeter, and some potential energy is lost during digestion and metabolism. Corrected physiological values for the heats of combustion of the three energy-yielding nutrients, rounded to whole numbers, are as follows: carbohydrate, 4 kilocalories (17 kilojoules) per gram; protein, 4 kilocalories (17 kilojoules) per gram; and fat, 9 kilocalories (38 kilojoules) per gram. Beverage alcohol (ethyl alcohol) also yields energy—7 kilocalories (29 kilojoules) per gram—although it is not essential in the diet. Vitamins, minerals, water, and other food constituents have no energy value, although many of them participate in energy-releasing processes in the body.The energy provided by a well-digested food can be estimated if the gram amounts of energy-yielding substances (non-fibre carbohydrate, fat, protein, and alcohol) in that food are known. For example, a slice of white bread containing 12 grams of carbohydrate, 2 grams of protein, and 1 gram of fat supplies 67 kilocalories (280 kilojoules) of energy. Food composition tables (see table) and food labels provide useful data for evaluating energy and nutrient intake of an individual diet. Most foods provide a mixture of energy-supplying nutrients, along with vitamins, minerals, water, and other substances. Two notable exceptions are table sugar and vegetable oil, which are virtually pure carbohydrate (sucrose) and fat, respectively.Throughout most of the world, protein supplies between 8 and 16 percent of the energy in the diet, although there are wide variations in the proportions of fat and carbohydrate in different populations. In more prosperous communities about 12 to 15 percent of energy is typically derived from protein, 30 to 40 percent from fat, and 50 to 60 percent from carbohydrate. On the other hand, in many poorer agricultural societies, where cereals comprise the bulk of the diet, carbohydrate provides an even larger percentage of energy, with protein and fat providing less. The human body is remarkably adaptable and can survive, and even thrive, on widely divergent diets. However, different dietary patterns are associated with particular health consequences (see nutritional disease).')]"
      ]
     },
     "execution_count": 19,
     "metadata": {},
     "output_type": "execute_result"
    }
   ],
   "source": [
    "docs = loader.load()\n",
    "#print(docs[0].page_content[:500])\n",
    "docs"
   ]
  },
  {
   "cell_type": "code",
   "execution_count": 21,
   "id": "d579d77a",
   "metadata": {},
   "outputs": [
    {
     "data": {
      "text/plain": [
       "[Document(metadata={'source': 'Human-Nutrition-2020-Edition-1598491699.pdf', 'page': 9}, page_content='The Functions of Carbohydrates in the Body \\nUniversity of Hawai‘i at Mānoa Food Science and \\nHuman Nutrition Program and Human Nutrition \\nProgram \\n253 \\nHealth Consequences and Benefits of High-\\nCarbohydrate Diets \\nUniversity of Hawai‘i at Mānoa Food Science and \\nHuman Nutrition Program and Human Nutrition \\nProgram \\n260 \\nCarbohydrates and Personal Diet Choices \\nUniversity of Hawai‘i at Mānoa Food Science and \\nHuman Nutrition Program and Human Nutrition \\nProgram \\n271 \\nPart V. Chapter 5. Lipids \\nIntroduction \\nUniversity of Hawai‘i at Mānoa Food Science and \\nHuman Nutrition Program and Human Nutrition \\nProgram \\n291 \\nThe Functions of Lipids in the Body \\nUniversity of Hawai‘i at Mānoa Food Science and \\nHuman Nutrition Program and Human Nutrition \\nProgram \\n296 \\nThe Role of Lipids in Food \\nUniversity of Hawai‘i at Mānoa Food Science and \\nHuman Nutrition Program and Human Nutrition \\nProgram \\n301 \\nHow Lipids Work \\nUniversity of Hawai‘i at Mānoa Food Science and'),\n",
       " Document(metadata={'source': 'Human-Nutrition-2020-Edition-1598491699.pdf', 'page': 9}, page_content='University of Hawai‘i at Mānoa Food Science and \\nHuman Nutrition Program and Human Nutrition \\nProgram \\n301 \\nHow Lipids Work \\nUniversity of Hawai‘i at Mānoa Food Science and \\nHuman Nutrition Program and Human Nutrition \\nProgram \\n305'),\n",
       " Document(metadata={'source': 'Human-Nutrition-2020-Edition-1598491699.pdf', 'page': 10}, page_content='Nonessential and Essential Fatty Acids \\nUniversity of Hawai‘i at Mānoa Food Science and \\nHuman Nutrition Program and Human Nutrition \\nProgram \\n313 \\nDigestion and Absorption of Lipids \\nUniversity of Hawai‘i at Mānoa Food Science and \\nHuman Nutrition Program and Human Nutrition \\nProgram \\n319 \\nTools for Change \\nUniversity of Hawai‘i at Mānoa Food Science and \\nHuman Nutrition Program and Human Nutrition \\nProgram \\n331 \\nLipids and the Food Industry \\nUniversity of Hawai‘i at Mānoa Food Science and \\nHuman Nutrition Program and Human Nutrition \\nProgram \\n340 \\nLipids and Disease \\nUniversity of Hawai‘i at Mānoa Food Science and \\nHuman Nutrition Program and Human Nutrition \\nProgram \\n345 \\nA Personal Choice about Lipids \\nUniversity of Hawai‘i at Mānoa Food Science and \\nHuman Nutrition Program and Human Nutrition \\nProgram \\n351 \\nPart VI. Chapter 6. Protein \\nIntroduction \\nUniversity of Hawai‘i at Mānoa Food Science and \\nHuman Nutrition Program and Human Nutrition \\nProgram \\n359'),\n",
       " Document(metadata={'source': 'Human-Nutrition-2020-Edition-1598491699.pdf', 'page': 11}, page_content='Defining Protein \\nUniversity of Hawai‘i at Mānoa Food Science and \\nHuman Nutrition Program and Human Nutrition \\nProgram \\n363 \\nThe Role of Proteins in Foods: Cooking and \\nDenaturation \\nUniversity of Hawai‘i at Mānoa Food Science and \\nHuman Nutrition Program and Human Nutrition \\nProgram \\n374 \\nProtein Digestion and Absorption \\nUniversity of Hawai‘i at Mānoa Food Science and \\nHuman Nutrition Program and Human Nutrition \\nProgram \\n378 \\nProtein’s Functions in the Body \\nUniversity of Hawai‘i at Mānoa Food Science and \\nHuman Nutrition Program and Human Nutrition \\nProgram \\n383 \\nDiseases Involving Proteins \\nUniversity of Hawai‘i at Mānoa Food Science and \\nHuman Nutrition Program and Human Nutrition \\nProgram \\n395 \\nProteins in a Nutshell \\nUniversity of Hawai‘i at Mānoa Food Science and \\nHuman Nutrition Program and Human Nutrition \\nProgram \\n405 \\nProteins, Diet, and Personal Choices \\nUniversity of Hawai‘i at Mānoa Food Science and \\nHuman Nutrition Program and Human Nutrition \\nProgram \\n409'),\n",
       " Document(metadata={'source': 'Human-Nutrition-2020-Edition-1598491699.pdf', 'page': 12}, page_content='Part VII. Chapter 7. Alcohol \\nIntroduction \\nUniversity of Hawai‘i at Mānoa Food Science and \\nHuman Nutrition Program and Human Nutrition \\nProgram \\n431 \\nAlcohol Metabolism \\nUniversity of Hawai‘i at Mānoa Food Science and \\nHuman Nutrition Program and Human Nutrition \\nProgram \\n436 \\nHealth Consequences of Alcohol Abuse \\nUniversity of Hawai‘i at Mānoa Food Science and \\nHuman Nutrition Program and Human Nutrition \\nProgram \\n442 \\nHealth Benefits of Moderate Alcohol Intake \\nUniversity of Hawai‘i at Mānoa Food Science and \\nHuman Nutrition Program and Human Nutrition \\nProgram \\n448 \\nPart VIII. Chapter 8. Energy \\nIntroduction \\nUniversity of Hawai‘i at Mānoa Food Science and \\nHuman Nutrition Program and Human Nutrition \\nProgram \\n453 \\nThe Atom \\nUniversity of Hawai‘i at Mānoa Food Science and \\nHuman Nutrition Program and Human Nutrition \\nProgram \\n460 \\nWeight Management \\nUniversity of Hawai‘i at Mānoa Food Science and \\nHuman Nutrition Program and Human Nutrition \\nProgram \\n472'),\n",
       " Document(metadata={'source': 'Human-Nutrition-2020-Edition-1598491699.pdf', 'page': 13}, page_content='Factors Affecting Energy Intake \\nUniversity of Hawai‘i at Mānoa Food Science and \\nHuman Nutrition Program and Human Nutrition \\nProgram \\n485 \\nFactors Affecting Energy Expenditure \\nUniversity of Hawai‘i at Mānoa Food Science and \\nHuman Nutrition Program and Human Nutrition \\nProgram \\n492 \\nDietary, Behavioral, and Physical Activity \\nRecommendations for Weight Management \\nUniversity of Hawai‘i at Mānoa Food Science and \\nHuman Nutrition Program and Human Nutrition \\nProgram \\n501 \\nPart IX. Chapter 9. Vitamins \\nIntroduction \\nUniversity of Hawai‘i at Mānoa Food Science and \\nHuman Nutrition Program and Human Nutrition \\nProgram \\n515 \\nFat-Soluble Vitamins \\nUniversity of Hawai‘i at Mānoa Food Science and \\nHuman Nutrition Program and Human Nutrition \\nProgram \\n521 \\nWater-Soluble Vitamins \\nUniversity of Hawai‘i at Mānoa Food Science and \\nHuman Nutrition Program and Human Nutrition \\nProgram \\n550 \\nAntioxidants \\nUniversity of Hawai‘i at Mānoa Food Science and \\nHuman Nutrition Program and Human Nutrition')]"
      ]
     },
     "execution_count": 21,
     "metadata": {},
     "output_type": "execute_result"
    }
   ],
   "source": [
    "#now splitting \n",
    "from langchain.text_splitter import RecursiveCharacterTextSplitter\n",
    "text_splitter = RecursiveCharacterTextSplitter(chunk_size = 1000, chunk_overlap = 200)\n",
    "documnets = text_splitter.split_documents(text_doc)\n",
    "documnets[10:16]"
   ]
  },
  {
   "cell_type": "code",
   "execution_count": null,
   "id": "5a66bb01",
   "metadata": {},
   "outputs": [
    {
     "name": "stdout",
     "output_type": "stream",
     "text": [
      "Macronutrients \n",
      "Nutrients tha t ar e ne eded in lar ge amoun ts ar e c alled \n",
      "macronutrients. Ther e ar e thr ee classes o f macr onutrients: \n",
      "carbohydrates, lipids, and pr oteins. These c an be me tabolically \n",
      "processed in to c ellular ener gy. The ener gy fr om macr onutrients \n",
      "comes fr om their chemic al bonds. This chemic al ener gy is \n",
      "converted into cellular energy that is then utilized to perform work, \n",
      "allowing our bodies to c onduct their basic func tions. A uni t o f \n",
      "measurement of food energy is the calorie. On nutrition food labels \n",
      "the amount given for “calories” is actually equivalent to each calorie \n",
      "multiplied b y one thousand. A kiloc alorie ( one thousand c alories, \n",
      "denoted with a small “ c”) is synon ymous with the “ Calorie” (with a \n",
      "capital “C”) on nutrition food labels. Water is also a macronutrient in \n",
      "the sense that you require a large amount of it, but unlike the other \n",
      "macronutrients, it does not yield calories. \n",
      "Carbohydrates \n",
      "Carbohydrates are molecules composed of carbon, hydrogen, and \n",
      "oxygen. The major f ood sources of carbohydrates are grains, milk, \n",
      "fruits, and starchy vegetables, like potatoes. Non-starchy vegetables \n",
      "also contain carbohydrates, but in lesser quan tities. Carbohydrates \n",
      "are br oadly classif ied in to t wo f orms base d on their chemic al \n",
      "structure: simple c arbohydrates, o ften c alled simple sugars; and \n",
      "complex carbohydrates. \n",
      "Simple carbohydrates consist of one or two basic units. Examples \n",
      "of simple sugars include sucr ose, the type of sugar you would have \n",
      "in a bowl on the breakfast table, and glucose, the type of sugar that \n",
      "circulates in your blood. \n",
      "Complex carbohydrates are long chains of simple sugars that can \n",
      "be unbr anched or br anched. During digestion, the bod y br eaks \n",
      "Introduction  |  5\n"
     ]
    },
    {
     "data": {
      "text/plain": [
       "'\\nfor doc in results:\\n    print(\"\\n--- Match ---\")\\n    print(doc.page_content[:400])'"
      ]
     },
     "execution_count": 36,
     "metadata": {},
     "output_type": "execute_result"
    }
   ],
   "source": [
    "#converting into vector embedding\n",
    "from sentence_transformers import SentenceTransformer, util\n",
    "from langchain.embeddings import SentenceTransformerEmbeddings\n",
    "from langchain.vectorstores import Chroma\n",
    "\n",
    "import faiss\n",
    "import numpy as np\n",
    "\n",
    "selected_docs = text_doc[:60]\n",
    "\n",
    "embedding_model = SentenceTransformerEmbeddings(model_name='all-MiniLM-L6-v2')\n",
    "db = Chroma.from_documents(documents=selected_docs, embedding=embedding_model, persist_directory=\"./chroma_db\")\n",
    "\n",
    "query = \"what is Macronutrients \"\n",
    "results = db.similarity_search(query)\n",
    "print(results[0].page_content)\n"
   ]
  },
  {
   "cell_type": "code",
   "execution_count": null,
   "id": "d26ff2df",
   "metadata": {},
   "outputs": [],
   "source": []
  }
 ],
 "metadata": {
  "kernelspec": {
   "display_name": "Python 3",
   "language": "python",
   "name": "python3"
  },
  "language_info": {
   "codemirror_mode": {
    "name": "ipython",
    "version": 3
   },
   "file_extension": ".py",
   "mimetype": "text/x-python",
   "name": "python",
   "nbconvert_exporter": "python",
   "pygments_lexer": "ipython3",
   "version": "3.10.0"
  }
 },
 "nbformat": 4,
 "nbformat_minor": 5
}
